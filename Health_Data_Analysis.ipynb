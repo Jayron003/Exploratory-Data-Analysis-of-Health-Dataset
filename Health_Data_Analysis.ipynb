{
 "cells": [
  {
   "cell_type": "markdown",
   "id": "9af78706",
   "metadata": {},
   "source": [
    "# Exploratory Data Analysis of Health Dataset\n",
    "----------\n",
    "This is a health dataset, each row represent a person and their corresponding features like age, height, weight, blood pressure, cholesterol level e.t.c.\n",
    "\n",
    "### Features\n",
    "1. `id`- unique key per person\n",
    "2. `age`- calculated in days\n",
    "3. `gender`:  `1`- female and `2`- male\n",
    "4. `height`- height of a person (cm)\n",
    "5. `weight`- weight of a person (kg)\n",
    "6. `ap_hi`- Systolic blood pressure (mmHg)\n",
    "7. `ap_lo`- Diastolic blood pressure (mmHg)\n",
    "8. `cholesterol`- level of cholesterol| `1`- normal | `2`- above normal | `3`- well above norrmal\n",
    "9. `smoke`: `0`- no and `1`- yes"
   ]
  },
  {
   "cell_type": "code",
   "execution_count": 1,
   "id": "9861ceba",
   "metadata": {},
   "outputs": [],
   "source": [
    "# import all required libaries\n",
    "import numpy as np\n",
    "import pandas as pd\n",
    "import seaborn as sns\n",
    "import scipy.stats as stats\n",
    "import matplotlib.pyplot as plt"
   ]
  },
  {
   "cell_type": "code",
   "execution_count": 2,
   "id": "f27f2ae4",
   "metadata": {},
   "outputs": [
    {
     "data": {
      "text/html": [
       "<div>\n",
       "<style scoped>\n",
       "    .dataframe tbody tr th:only-of-type {\n",
       "        vertical-align: middle;\n",
       "    }\n",
       "\n",
       "    .dataframe tbody tr th {\n",
       "        vertical-align: top;\n",
       "    }\n",
       "\n",
       "    .dataframe thead th {\n",
       "        text-align: right;\n",
       "    }\n",
       "</style>\n",
       "<table border=\"1\" class=\"dataframe\">\n",
       "  <thead>\n",
       "    <tr style=\"text-align: right;\">\n",
       "      <th></th>\n",
       "      <th>id</th>\n",
       "      <th>age</th>\n",
       "      <th>gender</th>\n",
       "      <th>height</th>\n",
       "      <th>weight</th>\n",
       "      <th>ap_hi</th>\n",
       "      <th>ap_lo</th>\n",
       "      <th>cholesterol</th>\n",
       "      <th>smoke</th>\n",
       "    </tr>\n",
       "  </thead>\n",
       "  <tbody>\n",
       "    <tr>\n",
       "      <th>0</th>\n",
       "      <td>0</td>\n",
       "      <td>18393</td>\n",
       "      <td>2</td>\n",
       "      <td>168</td>\n",
       "      <td>62.0</td>\n",
       "      <td>110</td>\n",
       "      <td>80</td>\n",
       "      <td>1</td>\n",
       "      <td>0</td>\n",
       "    </tr>\n",
       "    <tr>\n",
       "      <th>1</th>\n",
       "      <td>1</td>\n",
       "      <td>20228</td>\n",
       "      <td>1</td>\n",
       "      <td>156</td>\n",
       "      <td>85.0</td>\n",
       "      <td>140</td>\n",
       "      <td>90</td>\n",
       "      <td>3</td>\n",
       "      <td>0</td>\n",
       "    </tr>\n",
       "    <tr>\n",
       "      <th>2</th>\n",
       "      <td>2</td>\n",
       "      <td>18857</td>\n",
       "      <td>1</td>\n",
       "      <td>165</td>\n",
       "      <td>64.0</td>\n",
       "      <td>130</td>\n",
       "      <td>70</td>\n",
       "      <td>3</td>\n",
       "      <td>0</td>\n",
       "    </tr>\n",
       "    <tr>\n",
       "      <th>3</th>\n",
       "      <td>3</td>\n",
       "      <td>17623</td>\n",
       "      <td>2</td>\n",
       "      <td>169</td>\n",
       "      <td>82.0</td>\n",
       "      <td>150</td>\n",
       "      <td>100</td>\n",
       "      <td>1</td>\n",
       "      <td>0</td>\n",
       "    </tr>\n",
       "    <tr>\n",
       "      <th>4</th>\n",
       "      <td>4</td>\n",
       "      <td>17474</td>\n",
       "      <td>1</td>\n",
       "      <td>156</td>\n",
       "      <td>56.0</td>\n",
       "      <td>100</td>\n",
       "      <td>60</td>\n",
       "      <td>1</td>\n",
       "      <td>0</td>\n",
       "    </tr>\n",
       "  </tbody>\n",
       "</table>\n",
       "</div>"
      ],
      "text/plain": [
       "   id    age  gender  height  weight  ap_hi  ap_lo  cholesterol  smoke\n",
       "0   0  18393       2     168    62.0    110     80            1      0\n",
       "1   1  20228       1     156    85.0    140     90            3      0\n",
       "2   2  18857       1     165    64.0    130     70            3      0\n",
       "3   3  17623       2     169    82.0    150    100            1      0\n",
       "4   4  17474       1     156    56.0    100     60            1      0"
      ]
     },
     "execution_count": 2,
     "metadata": {},
     "output_type": "execute_result"
    }
   ],
   "source": [
    "cardio_df = pd.read_csv(\"cardio_base.csv\")\n",
    "cardio_df.head()"
   ]
  },
  {
   "cell_type": "code",
   "execution_count": 3,
   "id": "7976e367",
   "metadata": {},
   "outputs": [
    {
     "name": "stdout",
     "output_type": "stream",
     "text": [
      "<class 'pandas.core.frame.DataFrame'>\n",
      "RangeIndex: 70000 entries, 0 to 69999\n",
      "Data columns (total 9 columns):\n",
      " #   Column       Non-Null Count  Dtype  \n",
      "---  ------       --------------  -----  \n",
      " 0   id           70000 non-null  int64  \n",
      " 1   age          70000 non-null  int64  \n",
      " 2   gender       70000 non-null  int64  \n",
      " 3   height       70000 non-null  int64  \n",
      " 4   weight       70000 non-null  float64\n",
      " 5   ap_hi        70000 non-null  int64  \n",
      " 6   ap_lo        70000 non-null  int64  \n",
      " 7   cholesterol  70000 non-null  int64  \n",
      " 8   smoke        70000 non-null  int64  \n",
      "dtypes: float64(1), int64(8)\n",
      "memory usage: 4.8 MB\n"
     ]
    }
   ],
   "source": [
    "cardio_df.info()"
   ]
  },
  {
   "cell_type": "code",
   "execution_count": 4,
   "id": "da13775d",
   "metadata": {},
   "outputs": [
    {
     "name": "stdout",
     "output_type": "stream",
     "text": [
      "There are 70000 observations and 9 features in the dataset.\n"
     ]
    }
   ],
   "source": [
    "cardio_shape = cardio_df.shape\n",
    "print(f\"There are {cardio_shape[0]} observations and {cardio_shape[1]} features in the dataset.\")"
   ]
  },
  {
   "cell_type": "code",
   "execution_count": 5,
   "id": "6d461a5a",
   "metadata": {},
   "outputs": [
    {
     "data": {
      "text/html": [
       "<div>\n",
       "<style scoped>\n",
       "    .dataframe tbody tr th:only-of-type {\n",
       "        vertical-align: middle;\n",
       "    }\n",
       "\n",
       "    .dataframe tbody tr th {\n",
       "        vertical-align: top;\n",
       "    }\n",
       "\n",
       "    .dataframe thead th {\n",
       "        text-align: right;\n",
       "    }\n",
       "</style>\n",
       "<table border=\"1\" class=\"dataframe\">\n",
       "  <thead>\n",
       "    <tr style=\"text-align: right;\">\n",
       "      <th></th>\n",
       "      <th>id</th>\n",
       "      <th>age</th>\n",
       "      <th>gender</th>\n",
       "      <th>height</th>\n",
       "      <th>weight</th>\n",
       "      <th>ap_hi</th>\n",
       "      <th>ap_lo</th>\n",
       "      <th>cholesterol</th>\n",
       "      <th>smoke</th>\n",
       "    </tr>\n",
       "  </thead>\n",
       "  <tbody>\n",
       "    <tr>\n",
       "      <th>count</th>\n",
       "      <td>70000.000000</td>\n",
       "      <td>70000.000000</td>\n",
       "      <td>70000.000000</td>\n",
       "      <td>70000.000000</td>\n",
       "      <td>70000.000000</td>\n",
       "      <td>70000.000000</td>\n",
       "      <td>70000.000000</td>\n",
       "      <td>70000.000000</td>\n",
       "      <td>70000.000000</td>\n",
       "    </tr>\n",
       "    <tr>\n",
       "      <th>mean</th>\n",
       "      <td>49972.419900</td>\n",
       "      <td>19468.865814</td>\n",
       "      <td>1.349571</td>\n",
       "      <td>164.359229</td>\n",
       "      <td>74.205690</td>\n",
       "      <td>128.817286</td>\n",
       "      <td>96.630414</td>\n",
       "      <td>1.366871</td>\n",
       "      <td>0.088129</td>\n",
       "    </tr>\n",
       "    <tr>\n",
       "      <th>std</th>\n",
       "      <td>28851.302323</td>\n",
       "      <td>2467.251667</td>\n",
       "      <td>0.476838</td>\n",
       "      <td>8.210126</td>\n",
       "      <td>14.395757</td>\n",
       "      <td>154.011419</td>\n",
       "      <td>188.472530</td>\n",
       "      <td>0.680250</td>\n",
       "      <td>0.283484</td>\n",
       "    </tr>\n",
       "    <tr>\n",
       "      <th>min</th>\n",
       "      <td>0.000000</td>\n",
       "      <td>10798.000000</td>\n",
       "      <td>1.000000</td>\n",
       "      <td>55.000000</td>\n",
       "      <td>10.000000</td>\n",
       "      <td>-150.000000</td>\n",
       "      <td>-70.000000</td>\n",
       "      <td>1.000000</td>\n",
       "      <td>0.000000</td>\n",
       "    </tr>\n",
       "    <tr>\n",
       "      <th>25%</th>\n",
       "      <td>25006.750000</td>\n",
       "      <td>17664.000000</td>\n",
       "      <td>1.000000</td>\n",
       "      <td>159.000000</td>\n",
       "      <td>65.000000</td>\n",
       "      <td>120.000000</td>\n",
       "      <td>80.000000</td>\n",
       "      <td>1.000000</td>\n",
       "      <td>0.000000</td>\n",
       "    </tr>\n",
       "    <tr>\n",
       "      <th>50%</th>\n",
       "      <td>50001.500000</td>\n",
       "      <td>19703.000000</td>\n",
       "      <td>1.000000</td>\n",
       "      <td>165.000000</td>\n",
       "      <td>72.000000</td>\n",
       "      <td>120.000000</td>\n",
       "      <td>80.000000</td>\n",
       "      <td>1.000000</td>\n",
       "      <td>0.000000</td>\n",
       "    </tr>\n",
       "    <tr>\n",
       "      <th>75%</th>\n",
       "      <td>74889.250000</td>\n",
       "      <td>21327.000000</td>\n",
       "      <td>2.000000</td>\n",
       "      <td>170.000000</td>\n",
       "      <td>82.000000</td>\n",
       "      <td>140.000000</td>\n",
       "      <td>90.000000</td>\n",
       "      <td>2.000000</td>\n",
       "      <td>0.000000</td>\n",
       "    </tr>\n",
       "    <tr>\n",
       "      <th>max</th>\n",
       "      <td>99999.000000</td>\n",
       "      <td>23713.000000</td>\n",
       "      <td>2.000000</td>\n",
       "      <td>250.000000</td>\n",
       "      <td>200.000000</td>\n",
       "      <td>16020.000000</td>\n",
       "      <td>11000.000000</td>\n",
       "      <td>3.000000</td>\n",
       "      <td>1.000000</td>\n",
       "    </tr>\n",
       "  </tbody>\n",
       "</table>\n",
       "</div>"
      ],
      "text/plain": [
       "                 id           age        gender        height        weight  \\\n",
       "count  70000.000000  70000.000000  70000.000000  70000.000000  70000.000000   \n",
       "mean   49972.419900  19468.865814      1.349571    164.359229     74.205690   \n",
       "std    28851.302323   2467.251667      0.476838      8.210126     14.395757   \n",
       "min        0.000000  10798.000000      1.000000     55.000000     10.000000   \n",
       "25%    25006.750000  17664.000000      1.000000    159.000000     65.000000   \n",
       "50%    50001.500000  19703.000000      1.000000    165.000000     72.000000   \n",
       "75%    74889.250000  21327.000000      2.000000    170.000000     82.000000   \n",
       "max    99999.000000  23713.000000      2.000000    250.000000    200.000000   \n",
       "\n",
       "              ap_hi         ap_lo   cholesterol         smoke  \n",
       "count  70000.000000  70000.000000  70000.000000  70000.000000  \n",
       "mean     128.817286     96.630414      1.366871      0.088129  \n",
       "std      154.011419    188.472530      0.680250      0.283484  \n",
       "min     -150.000000    -70.000000      1.000000      0.000000  \n",
       "25%      120.000000     80.000000      1.000000      0.000000  \n",
       "50%      120.000000     80.000000      1.000000      0.000000  \n",
       "75%      140.000000     90.000000      2.000000      0.000000  \n",
       "max    16020.000000  11000.000000      3.000000      1.000000  "
      ]
     },
     "execution_count": 5,
     "metadata": {},
     "output_type": "execute_result"
    }
   ],
   "source": [
    "# descriptive statistics\n",
    "cardio_df.describe()"
   ]
  },
  {
   "cell_type": "code",
   "execution_count": 6,
   "id": "0fef1581",
   "metadata": {},
   "outputs": [
    {
     "data": {
      "text/plain": [
       "id             70000\n",
       "age             8076\n",
       "gender             2\n",
       "height           109\n",
       "weight           287\n",
       "ap_hi            153\n",
       "ap_lo            157\n",
       "cholesterol        3\n",
       "smoke              2\n",
       "dtype: int64"
      ]
     },
     "execution_count": 6,
     "metadata": {},
     "output_type": "execute_result"
    }
   ],
   "source": [
    "cardio_df.nunique()"
   ]
  },
  {
   "cell_type": "code",
   "execution_count": 7,
   "id": "f63ae225",
   "metadata": {},
   "outputs": [
    {
     "data": {
      "text/plain": [
       "0"
      ]
     },
     "execution_count": 7,
     "metadata": {},
     "output_type": "execute_result"
    }
   ],
   "source": [
    "# Check for duplicates\n",
    "cardio_df.duplicated().sum()"
   ]
  },
  {
   "cell_type": "code",
   "execution_count": 8,
   "id": "536d52ad",
   "metadata": {},
   "outputs": [
    {
     "data": {
      "text/plain": [
       "id             0\n",
       "age            0\n",
       "gender         0\n",
       "height         0\n",
       "weight         0\n",
       "ap_hi          0\n",
       "ap_lo          0\n",
       "cholesterol    0\n",
       "smoke          0\n",
       "dtype: int64"
      ]
     },
     "execution_count": 8,
     "metadata": {},
     "output_type": "execute_result"
    }
   ],
   "source": [
    "# Check for null columns\n",
    "cardio_df.isnull().sum()"
   ]
  },
  {
   "cell_type": "markdown",
   "id": "fb85c238",
   "metadata": {},
   "source": [
    " Exploratory Data Analysis and Data Cleaning\n",
    " -----"
   ]
  },
  {
   "cell_type": "code",
   "execution_count": 9,
   "id": "425faae2",
   "metadata": {},
   "outputs": [
    {
     "data": {
      "text/plain": [
       "0    18393\n",
       "1    20228\n",
       "2    18857\n",
       "3    17623\n",
       "4    17474\n",
       "Name: age, dtype: int64"
      ]
     },
     "execution_count": 9,
     "metadata": {},
     "output_type": "execute_result"
    }
   ],
   "source": [
    "# close observation of the age\n",
    "cardio_df[\"age\"].head()"
   ]
  },
  {
   "cell_type": "markdown",
   "id": "f681f4d5",
   "metadata": {},
   "source": [
    "* the `age` column was measured in days, hence we need to convert each row to years"
   ]
  },
  {
   "cell_type": "code",
   "execution_count": 10,
   "id": "a9dc09b6",
   "metadata": {},
   "outputs": [
    {
     "data": {
      "text/html": [
       "<div>\n",
       "<style scoped>\n",
       "    .dataframe tbody tr th:only-of-type {\n",
       "        vertical-align: middle;\n",
       "    }\n",
       "\n",
       "    .dataframe tbody tr th {\n",
       "        vertical-align: top;\n",
       "    }\n",
       "\n",
       "    .dataframe thead th {\n",
       "        text-align: right;\n",
       "    }\n",
       "</style>\n",
       "<table border=\"1\" class=\"dataframe\">\n",
       "  <thead>\n",
       "    <tr style=\"text-align: right;\">\n",
       "      <th></th>\n",
       "      <th>id</th>\n",
       "      <th>age</th>\n",
       "      <th>gender</th>\n",
       "      <th>height</th>\n",
       "      <th>weight</th>\n",
       "      <th>ap_hi</th>\n",
       "      <th>ap_lo</th>\n",
       "      <th>cholesterol</th>\n",
       "      <th>smoke</th>\n",
       "    </tr>\n",
       "  </thead>\n",
       "  <tbody>\n",
       "    <tr>\n",
       "      <th>0</th>\n",
       "      <td>0</td>\n",
       "      <td>50</td>\n",
       "      <td>2</td>\n",
       "      <td>168</td>\n",
       "      <td>62.0</td>\n",
       "      <td>110</td>\n",
       "      <td>80</td>\n",
       "      <td>1</td>\n",
       "      <td>0</td>\n",
       "    </tr>\n",
       "    <tr>\n",
       "      <th>1</th>\n",
       "      <td>1</td>\n",
       "      <td>55</td>\n",
       "      <td>1</td>\n",
       "      <td>156</td>\n",
       "      <td>85.0</td>\n",
       "      <td>140</td>\n",
       "      <td>90</td>\n",
       "      <td>3</td>\n",
       "      <td>0</td>\n",
       "    </tr>\n",
       "    <tr>\n",
       "      <th>2</th>\n",
       "      <td>2</td>\n",
       "      <td>51</td>\n",
       "      <td>1</td>\n",
       "      <td>165</td>\n",
       "      <td>64.0</td>\n",
       "      <td>130</td>\n",
       "      <td>70</td>\n",
       "      <td>3</td>\n",
       "      <td>0</td>\n",
       "    </tr>\n",
       "    <tr>\n",
       "      <th>3</th>\n",
       "      <td>3</td>\n",
       "      <td>48</td>\n",
       "      <td>2</td>\n",
       "      <td>169</td>\n",
       "      <td>82.0</td>\n",
       "      <td>150</td>\n",
       "      <td>100</td>\n",
       "      <td>1</td>\n",
       "      <td>0</td>\n",
       "    </tr>\n",
       "    <tr>\n",
       "      <th>4</th>\n",
       "      <td>4</td>\n",
       "      <td>47</td>\n",
       "      <td>1</td>\n",
       "      <td>156</td>\n",
       "      <td>56.0</td>\n",
       "      <td>100</td>\n",
       "      <td>60</td>\n",
       "      <td>1</td>\n",
       "      <td>0</td>\n",
       "    </tr>\n",
       "  </tbody>\n",
       "</table>\n",
       "</div>"
      ],
      "text/plain": [
       "   id  age  gender  height  weight  ap_hi  ap_lo  cholesterol  smoke\n",
       "0   0   50       2     168    62.0    110     80            1      0\n",
       "1   1   55       1     156    85.0    140     90            3      0\n",
       "2   2   51       1     165    64.0    130     70            3      0\n",
       "3   3   48       2     169    82.0    150    100            1      0\n",
       "4   4   47       1     156    56.0    100     60            1      0"
      ]
     },
     "execution_count": 10,
     "metadata": {},
     "output_type": "execute_result"
    }
   ],
   "source": [
    "# we are going to calculate age in years rounded down\n",
    "cardio_df[\"age\"]= (cardio_df[\"age\"]/ 365.25).astype(int)\n",
    "cardio_df.head()"
   ]
  },
  {
   "cell_type": "code",
   "execution_count": 11,
   "id": "6df5daa0",
   "metadata": {},
   "outputs": [
    {
     "data": {
      "text/plain": [
       "array([50, 55, 51, 48, 47, 59, 60, 61, 54, 40, 39, 45, 58, 63, 64, 53, 49,\n",
       "       57, 56, 46, 43, 62, 52, 42, 41, 44, 29, 30])"
      ]
     },
     "execution_count": 11,
     "metadata": {},
     "output_type": "execute_result"
    }
   ],
   "source": [
    "# the age groups within the dataset\n",
    "cardio_df.age.unique()"
   ]
  },
  {
   "cell_type": "code",
   "execution_count": 12,
   "id": "2a60841d",
   "metadata": {},
   "outputs": [
    {
     "name": "stdout",
     "output_type": "stream",
     "text": [
      "The yongest person in the dataset is: 29 years old\n"
     ]
    }
   ],
   "source": [
    "youngest = cardio_df[\"age\"].min()\n",
    "print(f\"The yongest person in the dataset is:\", youngest, \"years old\")"
   ]
  },
  {
   "cell_type": "code",
   "execution_count": 13,
   "id": "55b3dc60",
   "metadata": {},
   "outputs": [
    {
     "name": "stdout",
     "output_type": "stream",
     "text": [
      "The oldest person in the dataset is: 64 years old\n"
     ]
    }
   ],
   "source": [
    "oldest = cardio_df[\"age\"].max()\n",
    "print(f\"The oldest person in the dataset is:\", oldest, \"years old\")"
   ]
  },
  {
   "cell_type": "markdown",
   "id": "4ea535e8",
   "metadata": {},
   "source": [
    "* After evaluating the age distribution, we can deduce that the dataset consist of adults ONLY."
   ]
  },
  {
   "cell_type": "code",
   "execution_count": 14,
   "id": "8bc25b5a",
   "metadata": {},
   "outputs": [
    {
     "data": {
      "text/plain": [
       "<function matplotlib.pyplot.show(close=None, block=None)>"
      ]
     },
     "execution_count": 14,
     "metadata": {},
     "output_type": "execute_result"
    },
    {
     "data": {
      "image/png": "[encoded data removed]",
      "text/plain": [
       "<Figure size 640x480 with 1 Axes>"
      ]
     },
     "metadata": {},
     "output_type": "display_data"
    }
   ],
   "source": [
    "g=sns.countplot(x=\"gender\", data=cardio_df)\n",
    "g.set_title(\"Distribution of Gender\")\n",
    "plt.show"
   ]
  },
  {
   "cell_type": "markdown",
   "id": "7e55b3d6",
   "metadata": {},
   "source": [
    "* We can observe that females `1` are highly represented in the dataset compared to male `2`"
   ]
  },
  {
   "cell_type": "code",
   "execution_count": 15,
   "id": "ab15ae0b",
   "metadata": {},
   "outputs": [
    {
     "data": {
      "image/png": "[encoded data removed]",
      "text/plain": [
       "<Figure size 640x480 with 1 Axes>"
      ]
     },
     "metadata": {},
     "output_type": "display_data"
    }
   ],
   "source": [
    "# Distribution of 'age' across the dataset\n",
    "cardio_df[\"age\"].hist()\n",
    "plt.title(\"Age Distribution \")\n",
    "plt.ylabel(\"count\")\n",
    "plt.xlabel(\"age\")\n",
    "plt.show()"
   ]
  },
  {
   "cell_type": "markdown",
   "id": "7cd097a5",
   "metadata": {},
   "source": [
    "* We can see that the dataset is right-skewed, the majority are within age 50 to 60"
   ]
  },
  {
   "cell_type": "code",
   "execution_count": 16,
   "id": "bf15c8ab",
   "metadata": {},
   "outputs": [
    {
     "data": {
      "text/plain": [
       "53.0"
      ]
     },
     "execution_count": 16,
     "metadata": {},
     "output_type": "execute_result"
    }
   ],
   "source": [
    "# Calculate the median age\n",
    "cardio_df[\"age\"].median()"
   ]
  },
  {
   "cell_type": "code",
   "execution_count": 17,
   "id": "cda214ae",
   "metadata": {},
   "outputs": [
    {
     "data": {
      "text/plain": [
       "52.80325714285714"
      ]
     },
     "execution_count": 17,
     "metadata": {},
     "output_type": "execute_result"
    }
   ],
   "source": [
    "# Calculate the mean age\n",
    "cardio_df[\"age\"].mean()"
   ]
  },
  {
   "cell_type": "code",
   "execution_count": 18,
   "id": "349bc5d1",
   "metadata": {},
   "outputs": [
    {
     "data": {
      "image/png": "[encoded data removed]",
      "text/plain": [
       "<Figure size 560.361x500 with 1 Axes>"
      ]
     },
     "metadata": {},
     "output_type": "display_data"
    }
   ],
   "source": [
    "# Create a chart showing the count of gender per age group\n",
    "g=sns.catplot(y=\"age\", kind=\"count\", data=cardio_df, hue=\"gender\", ci=None)\n",
    "g.fig.suptitle(\" Age count by Gender\", y=1.05)\n",
    "plt.show()"
   ]
  },
  {
   "cell_type": "code",
   "execution_count": 19,
   "id": "0159ce5e",
   "metadata": {},
   "outputs": [
    {
     "data": {
      "image/png": "[encoded data removed]",
      "text/plain": [
       "<Figure size 640x480 with 1 Axes>"
      ]
     },
     "metadata": {},
     "output_type": "display_data"
    }
   ],
   "source": [
    "# examine the distribution of `ap_lo` feature\n",
    "sns.boxplot(x=\"ap_lo\", data=cardio_df)\n",
    "plt.show()"
   ]
  },
  {
   "cell_type": "code",
   "execution_count": 20,
   "id": "bc7ad4fb",
   "metadata": {},
   "outputs": [
    {
     "data": {
      "image/png": "[encoded data removed]",
      "text/plain": [
       "<Figure size 640x480 with 1 Axes>"
      ]
     },
     "metadata": {},
     "output_type": "display_data"
    }
   ],
   "source": [
    "# Examine the distribution of the `ap_hi` feature in the dataset\n",
    "sns.boxplot(x=\"ap_hi\", data=cardio_df)\n",
    "plt.show()"
   ]
  },
  {
   "cell_type": "markdown",
   "id": "f2264420",
   "metadata": {},
   "source": [
    "* there are a number of extreme values (outliers) here, most of which are aBnormal blood pressure as humans.\n",
    "* having `ap_lo` and `ap_hi` levels lower than 0 and as high as 10,000."
   ]
  },
  {
   "cell_type": "markdown",
   "id": "44f64b02",
   "metadata": {},
   "source": [
    "> Diastolic blood pressure `ap_lo` exerts within arteries between heartbeats. Normal diastolic blood pressure is 80 mmHg or below. If you have high blood pressure, the diastolic number is often higher even during rest. Diastolic blood pressure is considered dangerously low when it is 60 mmHg or lower and dangerously high when it is 110 mmHg or over. Reference: [verywell_health](https://www.verywellhealth.com/systolic-and-diastolic-blood-pressure-1746075)"
   ]
  },
  {
   "cell_type": "markdown",
   "id": "06dae09f",
   "metadata": {},
   "source": [
    "> Systolic blood pressure `ap_hi` exerts when blood is ejected into arteries. Normal systolic blood pressure is 120 mmHg or below. `ap_hi` below 90 mmHg is considered low and may require intervention and management from your healthcare provider. If you get `ap_hi` readings above 180 mmHg, it is considered dangerously high and should be addressed by your healthcare provider. Reference: [verywell health](https://www.verywellhealth.com/systolic-and-diastolic-blood-pressure-1746075)"
   ]
  },
  {
   "cell_type": "markdown",
   "id": "ffd47bca",
   "metadata": {},
   "source": [
    "Taking into account the above statement, we may have to drop those extreme values using a custom upper and lower limits which will include patients with hypotension and hypertension crisis within the dataset.\n",
    "#### Requirement to drop outliers\n",
    "- the percentage of the outliers must be 5% or lesser of the entire dataset\n",
    "- hence, our threshold should be <= 5% of `cardio_df`"
   ]
  },
  {
   "cell_type": "code",
   "execution_count": 21,
   "id": "e6699857",
   "metadata": {},
   "outputs": [
    {
     "name": "stdout",
     "output_type": "stream",
     "text": [
      "The ap_hi threshold is: 0.41285714285714287\n"
     ]
    }
   ],
   "source": [
    "# Calculate the threshold of `ap_hi` data below 70 and above 200\n",
    "ap_hi_outliers = (cardio_df[\"ap_hi\"] < 70 ) | (cardio_df[\"ap_hi\"] > 200)\n",
    "threshold = cardio_df[ap_hi_outliers][\"ap_hi\"].count() / cardio_df[\"ap_hi\"].count() * 100\n",
    "print(f\"The ap_hi threshold is:\", threshold)"
   ]
  },
  {
   "cell_type": "markdown",
   "id": "c4bf4c6f",
   "metadata": {},
   "source": [
    "- Since only 0.4% of our data is affected, it is safe to drop those data."
   ]
  },
  {
   "cell_type": "code",
   "execution_count": 22,
   "id": "64078344",
   "metadata": {},
   "outputs": [
    {
     "name": "stdout",
     "output_type": "stream",
     "text": [
      "The ap_lo threshold is: 1.4885714285714284\n"
     ]
    }
   ],
   "source": [
    "# Calculate the threshold of `ap_lo` data below 40 and above 140\n",
    "ap_lo_outliers = (cardio_df[\"ap_lo\"] < 40 ) | (cardio_df[\"ap_lo\"] > 140 )\n",
    "threshold1 = cardio_df[ap_lo_outliers][\"ap_lo\"].count() / cardio_df[\"ap_lo\"].count() * 100\n",
    "print(f\"The ap_lo threshold is:\", threshold1)"
   ]
  },
  {
   "cell_type": "markdown",
   "id": "05c6cb73",
   "metadata": {},
   "source": [
    "* Since the `ap_lo` outlier is 1.5% which is lower than our threshold, it is also safe to drop them"
   ]
  },
  {
   "cell_type": "code",
   "execution_count": 23,
   "id": "ec1ee286",
   "metadata": {},
   "outputs": [
    {
     "name": "stderr",
     "output_type": "stream",
     "text": [
      "C:\\Users\\pc\\AppData\\Local\\Temp\\ipykernel_2868\\2217526957.py:5: UserWarning: Boolean Series key will be reindexed to match DataFrame index.\n",
      "  cardio_df.drop(cardio_df[ap_lo_outliers].index, inplace = True)\n"
     ]
    }
   ],
   "source": [
    "# Drop ap_hi outliers\n",
    "cardio_df.drop(cardio_df[ap_hi_outliers].index, inplace = True)\n",
    "\n",
    "# Drop ap_lo outliers\n",
    "cardio_df.drop(cardio_df[ap_lo_outliers].index, inplace = True)"
   ]
  },
  {
   "cell_type": "code",
   "execution_count": 24,
   "id": "ba4e2c2e",
   "metadata": {},
   "outputs": [
    {
     "data": {
      "text/plain": [
       "(68696, 9)"
      ]
     },
     "execution_count": 24,
     "metadata": {},
     "output_type": "execute_result"
    }
   ],
   "source": [
    "cardio_df.shape"
   ]
  },
  {
   "cell_type": "code",
   "execution_count": 25,
   "id": "4c2c6a21",
   "metadata": {},
   "outputs": [
    {
     "data": {
      "image/png": "[encoded data removed]",
      "text/plain": [
       "<Figure size 640x480 with 1 Axes>"
      ]
     },
     "metadata": {},
     "output_type": "display_data"
    }
   ],
   "source": [
    "# A proper distribution chart of the `ap_lo` feature excluding its outliers\n",
    "sns.boxplot(x=\"ap_lo\", data=cardio_df)\n",
    "plt.show()"
   ]
  },
  {
   "cell_type": "markdown",
   "id": "27308f3e",
   "metadata": {},
   "source": [
    "* The normal range for diastolic blood pressure `api_lo` in adult is typically considered to be between 60 and 80 mmHg"
   ]
  },
  {
   "cell_type": "code",
   "execution_count": 26,
   "id": "392f28c7",
   "metadata": {},
   "outputs": [
    {
     "data": {
      "image/png": "[encoded data removed]",
      "text/plain": [
       "<Figure size 640x480 with 1 Axes>"
      ]
     },
     "metadata": {},
     "output_type": "display_data"
    }
   ],
   "source": [
    "sns.boxplot(x=\"ap_hi\", data=cardio_df)\n",
    "plt.show()"
   ]
  },
  {
   "cell_type": "markdown",
   "id": "57200394",
   "metadata": {},
   "source": [
    "* The normal range for systolic blood pressure `ap_hi` in adults is typically considered to be between 90 and 120mmHg"
   ]
  },
  {
   "cell_type": "code",
   "execution_count": 27,
   "id": "677800cf",
   "metadata": {},
   "outputs": [
    {
     "data": {
      "text/html": [
       "<div>\n",
       "<style scoped>\n",
       "    .dataframe tbody tr th:only-of-type {\n",
       "        vertical-align: middle;\n",
       "    }\n",
       "\n",
       "    .dataframe tbody tr th {\n",
       "        vertical-align: top;\n",
       "    }\n",
       "\n",
       "    .dataframe thead th {\n",
       "        text-align: right;\n",
       "    }\n",
       "</style>\n",
       "<table border=\"1\" class=\"dataframe\">\n",
       "  <thead>\n",
       "    <tr style=\"text-align: right;\">\n",
       "      <th></th>\n",
       "      <th>id</th>\n",
       "      <th>age</th>\n",
       "      <th>gender</th>\n",
       "      <th>height</th>\n",
       "      <th>weight</th>\n",
       "      <th>ap_hi</th>\n",
       "      <th>ap_lo</th>\n",
       "      <th>cholesterol</th>\n",
       "      <th>smoke</th>\n",
       "    </tr>\n",
       "  </thead>\n",
       "  <tbody>\n",
       "    <tr>\n",
       "      <th>1</th>\n",
       "      <td>1</td>\n",
       "      <td>55</td>\n",
       "      <td>1</td>\n",
       "      <td>156</td>\n",
       "      <td>85.0</td>\n",
       "      <td>140</td>\n",
       "      <td>90</td>\n",
       "      <td>3</td>\n",
       "      <td>0</td>\n",
       "    </tr>\n",
       "    <tr>\n",
       "      <th>3</th>\n",
       "      <td>3</td>\n",
       "      <td>48</td>\n",
       "      <td>2</td>\n",
       "      <td>169</td>\n",
       "      <td>82.0</td>\n",
       "      <td>150</td>\n",
       "      <td>100</td>\n",
       "      <td>1</td>\n",
       "      <td>0</td>\n",
       "    </tr>\n",
       "    <tr>\n",
       "      <th>22</th>\n",
       "      <td>32</td>\n",
       "      <td>63</td>\n",
       "      <td>1</td>\n",
       "      <td>158</td>\n",
       "      <td>90.0</td>\n",
       "      <td>145</td>\n",
       "      <td>85</td>\n",
       "      <td>2</td>\n",
       "      <td>0</td>\n",
       "    </tr>\n",
       "    <tr>\n",
       "      <th>24</th>\n",
       "      <td>35</td>\n",
       "      <td>45</td>\n",
       "      <td>1</td>\n",
       "      <td>170</td>\n",
       "      <td>68.0</td>\n",
       "      <td>150</td>\n",
       "      <td>90</td>\n",
       "      <td>3</td>\n",
       "      <td>0</td>\n",
       "    </tr>\n",
       "    <tr>\n",
       "      <th>25</th>\n",
       "      <td>36</td>\n",
       "      <td>39</td>\n",
       "      <td>1</td>\n",
       "      <td>153</td>\n",
       "      <td>65.0</td>\n",
       "      <td>130</td>\n",
       "      <td>100</td>\n",
       "      <td>2</td>\n",
       "      <td>0</td>\n",
       "    </tr>\n",
       "  </tbody>\n",
       "</table>\n",
       "</div>"
      ],
      "text/plain": [
       "    id  age  gender  height  weight  ap_hi  ap_lo  cholesterol  smoke\n",
       "1    1   55       1     156    85.0    140     90            3      0\n",
       "3    3   48       2     169    82.0    150    100            1      0\n",
       "22  32   63       1     158    90.0    145     85            2      0\n",
       "24  35   45       1     170    68.0    150     90            3      0\n",
       "25  36   39       1     153    65.0    130    100            2      0"
      ]
     },
     "execution_count": 27,
     "metadata": {},
     "output_type": "execute_result"
    }
   ],
   "source": [
    "# let's look at those with hypertension`\n",
    "hypertension = cardio_df[(cardio_df[\"ap_hi\"]>130) | (cardio_df[\"ap_lo\"]>90)]\n",
    "hypertension.head()"
   ]
  },
  {
   "cell_type": "code",
   "execution_count": 28,
   "id": "4b7a570e",
   "metadata": {},
   "outputs": [
    {
     "name": "stdout",
     "output_type": "stream",
     "text": [
      "The number of patients with hypertension are: 19088\n"
     ]
    }
   ],
   "source": [
    "print(f\"The number of patients with hypertension are:\", len(hypertension))"
   ]
  },
  {
   "cell_type": "code",
   "execution_count": 29,
   "id": "3b61d046",
   "metadata": {},
   "outputs": [
    {
     "data": {
      "text/plain": [
       "<function matplotlib.pyplot.show(close=None, block=None)>"
      ]
     },
     "execution_count": 29,
     "metadata": {},
     "output_type": "execute_result"
    },
    {
     "data": {
      "image/png": "[encoded data removed]",
      "text/plain": [
       "<Figure size 500x500 with 1 Axes>"
      ]
     },
     "metadata": {},
     "output_type": "display_data"
    }
   ],
   "source": [
    "g=sns.catplot(x=\"gender\", data=hypertension, kind=\"count\")\n",
    "g.fig.suptitle(\"Gender count with Hypertension\")\n",
    "plt.show"
   ]
  },
  {
   "cell_type": "markdown",
   "id": "c89c4da1",
   "metadata": {},
   "source": [
    "- it can be observed that more women `1` have hypertension than men `2`"
   ]
  },
  {
   "cell_type": "code",
   "execution_count": 30,
   "id": "3e98e9ab",
   "metadata": {},
   "outputs": [
    {
     "data": {
      "image/png": "[encoded data removed]",
      "text/plain": [
       "<Figure size 560.361x500 with 1 Axes>"
      ]
     },
     "metadata": {},
     "output_type": "display_data"
    }
   ],
   "source": [
    "# Create a boxlot of Weight vs Cholesterol by Gender\n",
    "g=sns.catplot(x=\"cholesterol\", y=\"weight\", kind=\"box\", data=cardio_df, hue=\"gender\")\n",
    "g.fig.suptitle(\" Weight vs Cholesterol by Gender\")\n",
    "plt.show()"
   ]
  },
  {
   "cell_type": "code",
   "execution_count": 31,
   "id": "a92af539",
   "metadata": {},
   "outputs": [
    {
     "data": {
      "image/png": "[encoded data removed]",
      "text/plain": [
       "<Figure size 1600x600 with 2 Axes>"
      ]
     },
     "metadata": {},
     "output_type": "display_data"
    }
   ],
   "source": [
    "# create a heatmap of dataset showing correlation between pair columns\n",
    "plt.figure(figsize=(16,6))\n",
    "mask=np.triu(np.ones_like(cardio_df.corr(),dtype=bool))\n",
    "heatmap = sns.heatmap(cardio_df.corr(),mask=mask, vmin=-1,vmax=1,annot=True,cmap='BrBG')\n",
    "heatmap.set_title('Trangle Correlation Heatmap')\n",
    "plt.show()"
   ]
  },
  {
   "cell_type": "markdown",
   "id": "b942960d",
   "metadata": {},
   "source": [
    "* There is a strong positive correlation of 0.71 between `ap_hi` and `ap_lo`\n",
    "* There is a strong positive correlation of 0.5 between `height` and `gender`\n",
    "* There is a positive correlation of 0.34 between `smoke` and `gender` "
   ]
  },
  {
   "cell_type": "code",
   "execution_count": 32,
   "id": "73651cb6",
   "metadata": {},
   "outputs": [
    {
     "data": {
      "image/png": "[encoded data removed]",
      "text/plain": [
       "<Figure size 558.875x500 with 1 Axes>"
      ]
     },
     "metadata": {},
     "output_type": "display_data"
    }
   ],
   "source": [
    "sns.catplot(x=\"cholesterol\", y=\"weight\", kind=\"bar\", data=cardio_df, hue=\"smoke\", ci=None)\n",
    "plt.show()"
   ]
  },
  {
   "cell_type": "markdown",
   "id": "af783901",
   "metadata": {},
   "source": [
    "- we can observe that as `cholesterol` level increases so does their corresponding weight for both smokers and non-smokers\n",
    "- generally smokers tend to have higher weight compared to non-smokers"
   ]
  },
  {
   "cell_type": "code",
   "execution_count": 33,
   "id": "fb8258f0",
   "metadata": {},
   "outputs": [
    {
     "data": {
      "image/png": "[encoded data removed]",
      "text/plain": [
       "<Figure size 640x480 with 1 Axes>"
      ]
     },
     "metadata": {},
     "output_type": "display_data"
    }
   ],
   "source": [
    "cardio_df[\"weight\"].hist()\n",
    "plt.title(\"Distribution of Weight\")\n",
    "plt.xlabel(\"weight\")\n",
    "plt.ylabel(\"count\")\n",
    "plt.show()"
   ]
  },
  {
   "cell_type": "code",
   "execution_count": 34,
   "id": "b6ef8db8",
   "metadata": {},
   "outputs": [
    {
     "data": {
      "text/plain": [
       "74.1105959590078"
      ]
     },
     "execution_count": 34,
     "metadata": {},
     "output_type": "execute_result"
    }
   ],
   "source": [
    "# Calculated the average weight cardio dataset\n",
    "avg_weight = cardio_df[\"weight\"].mean()\n",
    "avg_weight"
   ]
  },
  {
   "cell_type": "code",
   "execution_count": 35,
   "id": "1fd32e7d",
   "metadata": {},
   "outputs": [
    {
     "data": {
      "text/plain": [
       "72.0"
      ]
     },
     "execution_count": 35,
     "metadata": {},
     "output_type": "execute_result"
    }
   ],
   "source": [
    "# Calculate the median weight cardio datset\n",
    "cardio_df[\"weight\"].median()"
   ]
  },
  {
   "cell_type": "code",
   "execution_count": 36,
   "id": "74c87621",
   "metadata": {},
   "outputs": [
    {
     "name": "stdout",
     "output_type": "stream",
     "text": [
      "The least weight within the dataset is 11.0kg which is unlikely for an adult\n"
     ]
    }
   ],
   "source": [
    "# Calculate the minimum weight in the cardio dataset\n",
    "min_weight = cardio_df[\"weight\"].min()\n",
    "print(f\"The least weight within the dataset is {min_weight}kg which is unlikely for an adult\")"
   ]
  },
  {
   "cell_type": "code",
   "execution_count": 37,
   "id": "d8684f7a",
   "metadata": {},
   "outputs": [
    {
     "name": "stdout",
     "output_type": "stream",
     "text": [
      "The maximum weigth within the dataset is 200.0kg\n"
     ]
    }
   ],
   "source": [
    "# Calculate the maximum weight in the cardio dataset\n",
    "max_weight = cardio_df[\"weight\"].max()\n",
    "print(f\"The maximum weigth within the dataset is {max_weight}kg\")"
   ]
  },
  {
   "cell_type": "code",
   "execution_count": 38,
   "id": "f15c13d4",
   "metadata": {},
   "outputs": [
    {
     "data": {
      "image/png": "[encoded data removed]",
      "text/plain": [
       "<Figure size 500x500 with 1 Axes>"
      ]
     },
     "metadata": {},
     "output_type": "display_data"
    }
   ],
   "source": [
    "g = sns.catplot(y=\"weight\", x=\"gender\", data=cardio_df, kind=\"box\")\n",
    "g.fig.suptitle(\"Distritubution of Weight by Gender\", y=1.03)\n",
    "plt.show()"
   ]
  },
  {
   "cell_type": "markdown",
   "id": "892c5853",
   "metadata": {},
   "source": [
    "* It can be observed that the median weight of men `2` weighs more than women `1` "
   ]
  },
  {
   "cell_type": "code",
   "execution_count": 39,
   "id": "6973eb8e",
   "metadata": {},
   "outputs": [
    {
     "data": {
      "image/png": "[encoded data removed]",
      "text/plain": [
       "<Figure size 558.875x500 with 1 Axes>"
      ]
     },
     "metadata": {},
     "output_type": "display_data"
    }
   ],
   "source": [
    "# show the weight distribution by gender \n",
    "g=sns.catplot(x=\"gender\", y=\"weight\", data=cardio_df, kind=\"box\", hue=\"smoke\", sym=\"\")\n",
    "g.fig.suptitle(\"Weight distribution vs Gender\", y=1.03)\n",
    "plt.show()"
   ]
  },
  {
   "cell_type": "markdown",
   "id": "33bf81c7",
   "metadata": {},
   "source": [
    "* we can deduce that women who are smokers weigh more than those who do not smoke\n",
    "* while there is an identical weight of men that are smokers and non-smokers"
   ]
  },
  {
   "cell_type": "code",
   "execution_count": 40,
   "id": "aa3fec82",
   "metadata": {},
   "outputs": [
    {
     "data": {
      "image/png": "[encoded data removed]",
      "text/plain": [
       "<Figure size 500x500 with 1 Axes>"
      ]
     },
     "metadata": {},
     "output_type": "display_data"
    }
   ],
   "source": [
    "# Plot a bar chart of average height per gender \n",
    "g=sns.catplot(x=\"gender\", y=\"height\", data=cardio_df, kind=\"bar\", ci=None)\n",
    "g.fig.suptitle(\"Distribution of Height by Gender\")\n",
    "plt.show()"
   ]
  },
  {
   "cell_type": "markdown",
   "id": "544ced45",
   "metadata": {},
   "source": [
    "- It can be observed that `2`- male, is taller than `1`- female in this dataset "
   ]
  },
  {
   "cell_type": "markdown",
   "id": "ee4edfa4",
   "metadata": {},
   "source": [
    "Question 1\n",
    "-----\n",
    "* How much heavier is the age group with the highest average weight than the age group with the lowest weight?"
   ]
  },
  {
   "cell_type": "code",
   "execution_count": 41,
   "id": "765c3569",
   "metadata": {},
   "outputs": [
    {
     "data": {
      "text/html": [
       "<div>\n",
       "<style scoped>\n",
       "    .dataframe tbody tr th:only-of-type {\n",
       "        vertical-align: middle;\n",
       "    }\n",
       "\n",
       "    .dataframe tbody tr th {\n",
       "        vertical-align: top;\n",
       "    }\n",
       "\n",
       "    .dataframe thead th {\n",
       "        text-align: right;\n",
       "    }\n",
       "</style>\n",
       "<table border=\"1\" class=\"dataframe\">\n",
       "  <thead>\n",
       "    <tr style=\"text-align: right;\">\n",
       "      <th></th>\n",
       "      <th>age</th>\n",
       "      <th>weight</th>\n",
       "    </tr>\n",
       "  </thead>\n",
       "  <tbody>\n",
       "    <tr>\n",
       "      <th>0</th>\n",
       "      <td>29</td>\n",
       "      <td>70.000000</td>\n",
       "    </tr>\n",
       "    <tr>\n",
       "      <th>1</th>\n",
       "      <td>30</td>\n",
       "      <td>59.000000</td>\n",
       "    </tr>\n",
       "    <tr>\n",
       "      <th>2</th>\n",
       "      <td>39</td>\n",
       "      <td>72.112634</td>\n",
       "    </tr>\n",
       "    <tr>\n",
       "      <th>3</th>\n",
       "      <td>40</td>\n",
       "      <td>70.958831</td>\n",
       "    </tr>\n",
       "    <tr>\n",
       "      <th>4</th>\n",
       "      <td>41</td>\n",
       "      <td>72.731841</td>\n",
       "    </tr>\n",
       "  </tbody>\n",
       "</table>\n",
       "</div>"
      ],
      "text/plain": [
       "   age     weight\n",
       "0   29  70.000000\n",
       "1   30  59.000000\n",
       "2   39  72.112634\n",
       "3   40  70.958831\n",
       "4   41  72.731841"
      ]
     },
     "execution_count": 41,
     "metadata": {},
     "output_type": "execute_result"
    }
   ],
   "source": [
    "# Calculate the average weight by age group\n",
    "avg_weight_by_age = cardio_df.groupby(\"age\")[\"weight\"].mean().reset_index()\n",
    "avg_weight_by_age.head()"
   ]
  },
  {
   "cell_type": "code",
   "execution_count": 42,
   "id": "995012f6",
   "metadata": {},
   "outputs": [
    {
     "name": "stdout",
     "output_type": "stream",
     "text": [
      "The overall average weight of the dataset is 74.11kg.\n"
     ]
    }
   ],
   "source": [
    "overall_avg_weight = cardio_df[\"weight\"].mean()\n",
    "print(f\"The overall average weight of the dataset is {overall_avg_weight:.2f}kg.\")"
   ]
  },
  {
   "cell_type": "code",
   "execution_count": 43,
   "id": "63c10ba3",
   "metadata": {},
   "outputs": [
    {
     "name": "stdout",
     "output_type": "stream",
     "text": [
      "The age group with the lowest weight is (30years) at 59.0kg.\n"
     ]
    }
   ],
   "source": [
    "lowest_weight_age = avg_weight_by_age[\"age\"].iloc[avg_weight_by_age[\"weight\"].idxmin()]\n",
    "lowest_weight_avg = avg_weight_by_age[\"weight\"].min()\n",
    "print(f\"The age group with the lowest weight is ({lowest_weight_age}years) at {lowest_weight_avg}kg.\")"
   ]
  },
  {
   "cell_type": "code",
   "execution_count": 44,
   "id": "344cac17",
   "metadata": {},
   "outputs": [
    {
     "name": "stdout",
     "output_type": "stream",
     "text": [
      "The highest weight age group is (63years) at 75.71kg.\n"
     ]
    }
   ],
   "source": [
    "highest_weight_age = avg_weight_by_age[\"age\"].iloc[avg_weight_by_age[\"weight\"].idxmax()]\n",
    "highest_weight_avg = avg_weight_by_age[\"weight\"].max()\n",
    "print(f\"The highest weight age group is ({highest_weight_age}years) at {highest_weight_avg:.2f}kg.\")"
   ]
  },
  {
   "cell_type": "code",
   "execution_count": 45,
   "id": "ff303e69",
   "metadata": {},
   "outputs": [
    {
     "name": "stdout",
     "output_type": "stream",
     "text": [
      "The age group with the highest weight (63 years) is 16.71kg heavier than the age group with the lowest weight(30 years).\n"
     ]
    }
   ],
   "source": [
    "weight_difference = avg_weight_by_age[\"weight\"].max()- avg_weight_by_age[\"weight\"].min()\n",
    "print(f\"The age group with the highest weight ({highest_weight_age} years) is {weight_difference:.2f}kg heavier than the age group with the lowest weight({lowest_weight_age} years).\")"
   ]
  },
  {
   "cell_type": "code",
   "execution_count": 46,
   "id": "8a0b130a",
   "metadata": {},
   "outputs": [
    {
     "name": "stdout",
     "output_type": "stream",
     "text": [
      "The age group with the highest average weight (63years) is  22.55% heavier than the age group with the lowest weight(30years).\n"
     ]
    }
   ],
   "source": [
    "# Calculate the percentage differrence\n",
    "percentage_difference = abs(highest_weight_avg - lowest_weight_avg) / overall_avg_weight * 100\n",
    "print(f\"The age group with the highest average weight ({highest_weight_age}years) is {percentage_difference: .2f}% heavier than the age group with the lowest weight({lowest_weight_age}years).\")"
   ]
  },
  {
   "cell_type": "markdown",
   "id": "513b2507",
   "metadata": {},
   "source": [
    "## Question 2\n",
    "\n",
    "* Are men more likely to be a smoker than women?"
   ]
  },
  {
   "cell_type": "code",
   "execution_count": 47,
   "id": "969b87a3",
   "metadata": {},
   "outputs": [],
   "source": [
    "# Calculate the percentage of men who smoke\n",
    "men_smokers = cardio_df[cardio_df[\"gender\"]==2][\"smoke\"].mean()*100\n",
    "\n",
    "# Calculate the percentage of women who smoke\n",
    "women_smokers = cardio_df[cardio_df[\"gender\"]==1][\"smoke\"].mean()*100"
   ]
  },
  {
   "cell_type": "code",
   "execution_count": 48,
   "id": "6d7933f2",
   "metadata": {},
   "outputs": [
    {
     "name": "stdout",
     "output_type": "stream",
     "text": [
      "Yes, men are 12x more likely to be smokers.\n"
     ]
    }
   ],
   "source": [
    "if men_smokers > women_smokers:\n",
    "    print(f\"Yes, men are {men_smokers/ women_smokers:.0f}x more likely to be smokers.\")\n",
    "elif men_smokers < women_smokers:\n",
    "    print(f\"No, women are {women_smokers / men_smokers:.0f}x more likely to be smokers.\")\n",
    "else:\n",
    "    print(f\"The portion of men and women who smoke are about th same.\")"
   ]
  },
  {
   "cell_type": "markdown",
   "id": "8d066719",
   "metadata": {},
   "source": [
    "## Question 3\n",
    "* How tall are the tallest 1% of people?"
   ]
  },
  {
   "cell_type": "code",
   "execution_count": 49,
   "id": "c2de371c",
   "metadata": {},
   "outputs": [
    {
     "name": "stdout",
     "output_type": "stream",
     "text": [
      "The height of the tallest 1% of people is taller than 184cm.\n"
     ]
    }
   ],
   "source": [
    "# Calculate the height percentiledistribution\n",
    "height_percentiles = np.percentile(cardio_df[\"height\"],  q=np.arange(0, 101,1))\n",
    "\n",
    "# Calculate the height value that corresponds to the top 1% of the distribution\n",
    "top_1_percentile = height_percentiles[99]\n",
    "print(f\"The height of the tallest 1% of people is taller than {top_1_percentile:.0f}cm.\")"
   ]
  },
  {
   "cell_type": "markdown",
   "id": "ac291692",
   "metadata": {},
   "source": [
    " Importing a new dataset to update the Cardio_dataset with an additional column\n",
    "-------\n",
    "The new dataset `Cardio_alco` consist of ONLY two columns, they are :\n",
    "\n",
    "`id`- the unique key for each correspondent\n",
    "\n",
    "`alco`- is a binary class for those who consume alcohol and those who doesn't.\n",
    "* 0- no\n",
    "* 1- yes"
   ]
  },
  {
   "cell_type": "code",
   "execution_count": 50,
   "id": "4b0eb9a0",
   "metadata": {},
   "outputs": [
    {
     "data": {
      "text/html": [
       "<div>\n",
       "<style scoped>\n",
       "    .dataframe tbody tr th:only-of-type {\n",
       "        vertical-align: middle;\n",
       "    }\n",
       "\n",
       "    .dataframe tbody tr th {\n",
       "        vertical-align: top;\n",
       "    }\n",
       "\n",
       "    .dataframe thead th {\n",
       "        text-align: right;\n",
       "    }\n",
       "</style>\n",
       "<table border=\"1\" class=\"dataframe\">\n",
       "  <thead>\n",
       "    <tr style=\"text-align: right;\">\n",
       "      <th></th>\n",
       "      <th>id</th>\n",
       "      <th>alco</th>\n",
       "    </tr>\n",
       "  </thead>\n",
       "  <tbody>\n",
       "    <tr>\n",
       "      <th>0</th>\n",
       "      <td>44</td>\n",
       "      <td>0</td>\n",
       "    </tr>\n",
       "    <tr>\n",
       "      <th>1</th>\n",
       "      <td>45</td>\n",
       "      <td>0</td>\n",
       "    </tr>\n",
       "    <tr>\n",
       "      <th>2</th>\n",
       "      <td>46</td>\n",
       "      <td>0</td>\n",
       "    </tr>\n",
       "    <tr>\n",
       "      <th>3</th>\n",
       "      <td>47</td>\n",
       "      <td>0</td>\n",
       "    </tr>\n",
       "    <tr>\n",
       "      <th>4</th>\n",
       "      <td>49</td>\n",
       "      <td>0</td>\n",
       "    </tr>\n",
       "  </tbody>\n",
       "</table>\n",
       "</div>"
      ],
      "text/plain": [
       "   id  alco\n",
       "0  44     0\n",
       "1  45     0\n",
       "2  46     0\n",
       "3  47     0\n",
       "4  49     0"
      ]
     },
     "execution_count": 50,
     "metadata": {},
     "output_type": "execute_result"
    }
   ],
   "source": [
    "alco_df = pd.read_csv(\"cardio_alco.csv\")\n",
    "alco_df.head()"
   ]
  },
  {
   "cell_type": "code",
   "execution_count": 51,
   "id": "9413910b",
   "metadata": {},
   "outputs": [
    {
     "data": {
      "text/plain": [
       "(56903, 2)"
      ]
     },
     "execution_count": 51,
     "metadata": {},
     "output_type": "execute_result"
    }
   ],
   "source": [
    "alco_df.shape"
   ]
  },
  {
   "cell_type": "code",
   "execution_count": 52,
   "id": "3f15e102",
   "metadata": {},
   "outputs": [
    {
     "data": {
      "text/plain": [
       "array([0, 1], dtype=int64)"
      ]
     },
     "execution_count": 52,
     "metadata": {},
     "output_type": "execute_result"
    }
   ],
   "source": [
    "alco_df[\"alco\"].unique()"
   ]
  },
  {
   "cell_type": "code",
   "execution_count": 53,
   "id": "17c22194",
   "metadata": {},
   "outputs": [
    {
     "data": {
      "image/png": "[encoded data removed]",
      "text/plain": [
       "<Figure size 640x480 with 1 Axes>"
      ]
     },
     "metadata": {},
     "output_type": "display_data"
    }
   ],
   "source": [
    "g=sns.countplot(x=\"alco\", data=alco_df)\n",
    "g.set_title(\"Distribution of Alcohol Consumers\")\n",
    "plt.show()"
   ]
  },
  {
   "cell_type": "markdown",
   "id": "b90b61b0",
   "metadata": {},
   "source": [
    "* The dataset consist more of people who do not consume alcohol `0` than those who do `1`"
   ]
  },
  {
   "cell_type": "code",
   "execution_count": 54,
   "id": "8d17d4e4",
   "metadata": {},
   "outputs": [],
   "source": [
    "# merge the Cardio dataset with alco on `id`\n",
    "merge = cardio_df.merge(alco_df, on=\"id\", how=\"inner\")"
   ]
  },
  {
   "cell_type": "code",
   "execution_count": 55,
   "id": "8fd5a854",
   "metadata": {},
   "outputs": [
    {
     "data": {
      "text/plain": [
       "(55826, 10)"
      ]
     },
     "execution_count": 55,
     "metadata": {},
     "output_type": "execute_result"
    }
   ],
   "source": [
    "merge.shape"
   ]
  },
  {
   "cell_type": "code",
   "execution_count": 56,
   "id": "9b6e1003",
   "metadata": {},
   "outputs": [
    {
     "data": {
      "text/html": [
       "<div>\n",
       "<style scoped>\n",
       "    .dataframe tbody tr th:only-of-type {\n",
       "        vertical-align: middle;\n",
       "    }\n",
       "\n",
       "    .dataframe tbody tr th {\n",
       "        vertical-align: top;\n",
       "    }\n",
       "\n",
       "    .dataframe thead th {\n",
       "        text-align: right;\n",
       "    }\n",
       "</style>\n",
       "<table border=\"1\" class=\"dataframe\">\n",
       "  <thead>\n",
       "    <tr style=\"text-align: right;\">\n",
       "      <th></th>\n",
       "      <th>id</th>\n",
       "      <th>age</th>\n",
       "      <th>gender</th>\n",
       "      <th>height</th>\n",
       "      <th>weight</th>\n",
       "      <th>ap_hi</th>\n",
       "      <th>ap_lo</th>\n",
       "      <th>cholesterol</th>\n",
       "      <th>smoke</th>\n",
       "      <th>alco</th>\n",
       "    </tr>\n",
       "  </thead>\n",
       "  <tbody>\n",
       "    <tr>\n",
       "      <th>0</th>\n",
       "      <td>44</td>\n",
       "      <td>39</td>\n",
       "      <td>1</td>\n",
       "      <td>159</td>\n",
       "      <td>60.0</td>\n",
       "      <td>110</td>\n",
       "      <td>70</td>\n",
       "      <td>1</td>\n",
       "      <td>0</td>\n",
       "      <td>0</td>\n",
       "    </tr>\n",
       "    <tr>\n",
       "      <th>1</th>\n",
       "      <td>45</td>\n",
       "      <td>56</td>\n",
       "      <td>1</td>\n",
       "      <td>160</td>\n",
       "      <td>73.0</td>\n",
       "      <td>130</td>\n",
       "      <td>85</td>\n",
       "      <td>1</td>\n",
       "      <td>0</td>\n",
       "      <td>0</td>\n",
       "    </tr>\n",
       "    <tr>\n",
       "      <th>2</th>\n",
       "      <td>46</td>\n",
       "      <td>60</td>\n",
       "      <td>2</td>\n",
       "      <td>173</td>\n",
       "      <td>82.0</td>\n",
       "      <td>140</td>\n",
       "      <td>90</td>\n",
       "      <td>3</td>\n",
       "      <td>0</td>\n",
       "      <td>0</td>\n",
       "    </tr>\n",
       "    <tr>\n",
       "      <th>3</th>\n",
       "      <td>47</td>\n",
       "      <td>55</td>\n",
       "      <td>1</td>\n",
       "      <td>163</td>\n",
       "      <td>55.0</td>\n",
       "      <td>120</td>\n",
       "      <td>80</td>\n",
       "      <td>1</td>\n",
       "      <td>0</td>\n",
       "      <td>0</td>\n",
       "    </tr>\n",
       "    <tr>\n",
       "      <th>4</th>\n",
       "      <td>49</td>\n",
       "      <td>50</td>\n",
       "      <td>2</td>\n",
       "      <td>175</td>\n",
       "      <td>95.0</td>\n",
       "      <td>120</td>\n",
       "      <td>80</td>\n",
       "      <td>1</td>\n",
       "      <td>0</td>\n",
       "      <td>0</td>\n",
       "    </tr>\n",
       "  </tbody>\n",
       "</table>\n",
       "</div>"
      ],
      "text/plain": [
       "   id  age  gender  height  weight  ap_hi  ap_lo  cholesterol  smoke  alco\n",
       "0  44   39       1     159    60.0    110     70            1      0     0\n",
       "1  45   56       1     160    73.0    130     85            1      0     0\n",
       "2  46   60       2     173    82.0    140     90            3      0     0\n",
       "3  47   55       1     163    55.0    120     80            1      0     0\n",
       "4  49   50       2     175    95.0    120     80            1      0     0"
      ]
     },
     "execution_count": 56,
     "metadata": {},
     "output_type": "execute_result"
    }
   ],
   "source": [
    "merge.head()"
   ]
  },
  {
   "cell_type": "code",
   "execution_count": 57,
   "id": "99c7d38a",
   "metadata": {},
   "outputs": [
    {
     "data": {
      "image/png": "[encoded data removed]",
      "text/plain": [
       "<Figure size 560.361x500 with 1 Axes>"
      ]
     },
     "metadata": {},
     "output_type": "display_data"
    }
   ],
   "source": [
    "# Let's check what gender consume alcohol more\n",
    "sns.catplot(x=\"alco\", data=merge, kind=\"count\", hue=\"gender\")\n",
    "plt.show()"
   ]
  },
  {
   "cell_type": "markdown",
   "id": "ec9eabe5",
   "metadata": {},
   "source": [
    "* We can observe that most people do not consume alcohol\n",
    "* Men `2` consume alcohol more than women `1`\n",
    "* And a higher percent of women `1` do not drink alcohol"
   ]
  },
  {
   "cell_type": "markdown",
   "id": "a03abb1d",
   "metadata": {},
   "source": [
    "## Question 4\n",
    "- What age group consume alcohol the most?"
   ]
  },
  {
   "cell_type": "code",
   "execution_count": 58,
   "id": "1f03dad2",
   "metadata": {},
   "outputs": [
    {
     "data": {
      "text/html": [
       "<div>\n",
       "<style scoped>\n",
       "    .dataframe tbody tr th:only-of-type {\n",
       "        vertical-align: middle;\n",
       "    }\n",
       "\n",
       "    .dataframe tbody tr th {\n",
       "        vertical-align: top;\n",
       "    }\n",
       "\n",
       "    .dataframe thead th {\n",
       "        text-align: right;\n",
       "    }\n",
       "</style>\n",
       "<table border=\"1\" class=\"dataframe\">\n",
       "  <thead>\n",
       "    <tr style=\"text-align: right;\">\n",
       "      <th></th>\n",
       "      <th>id</th>\n",
       "      <th>age</th>\n",
       "      <th>gender</th>\n",
       "      <th>height</th>\n",
       "      <th>weight</th>\n",
       "      <th>ap_hi</th>\n",
       "      <th>ap_lo</th>\n",
       "      <th>cholesterol</th>\n",
       "      <th>smoke</th>\n",
       "      <th>alco</th>\n",
       "    </tr>\n",
       "  </thead>\n",
       "  <tbody>\n",
       "    <tr>\n",
       "      <th>30</th>\n",
       "      <td>81</td>\n",
       "      <td>55</td>\n",
       "      <td>2</td>\n",
       "      <td>187</td>\n",
       "      <td>115.0</td>\n",
       "      <td>130</td>\n",
       "      <td>90</td>\n",
       "      <td>1</td>\n",
       "      <td>0</td>\n",
       "      <td>1</td>\n",
       "    </tr>\n",
       "    <tr>\n",
       "      <th>67</th>\n",
       "      <td>134</td>\n",
       "      <td>47</td>\n",
       "      <td>1</td>\n",
       "      <td>167</td>\n",
       "      <td>71.0</td>\n",
       "      <td>120</td>\n",
       "      <td>80</td>\n",
       "      <td>2</td>\n",
       "      <td>0</td>\n",
       "      <td>1</td>\n",
       "    </tr>\n",
       "    <tr>\n",
       "      <th>69</th>\n",
       "      <td>136</td>\n",
       "      <td>51</td>\n",
       "      <td>1</td>\n",
       "      <td>167</td>\n",
       "      <td>80.0</td>\n",
       "      <td>190</td>\n",
       "      <td>90</td>\n",
       "      <td>2</td>\n",
       "      <td>0</td>\n",
       "      <td>1</td>\n",
       "    </tr>\n",
       "    <tr>\n",
       "      <th>75</th>\n",
       "      <td>142</td>\n",
       "      <td>39</td>\n",
       "      <td>2</td>\n",
       "      <td>164</td>\n",
       "      <td>48.0</td>\n",
       "      <td>110</td>\n",
       "      <td>70</td>\n",
       "      <td>1</td>\n",
       "      <td>1</td>\n",
       "      <td>1</td>\n",
       "    </tr>\n",
       "    <tr>\n",
       "      <th>102</th>\n",
       "      <td>180</td>\n",
       "      <td>58</td>\n",
       "      <td>2</td>\n",
       "      <td>174</td>\n",
       "      <td>90.0</td>\n",
       "      <td>140</td>\n",
       "      <td>80</td>\n",
       "      <td>1</td>\n",
       "      <td>1</td>\n",
       "      <td>1</td>\n",
       "    </tr>\n",
       "  </tbody>\n",
       "</table>\n",
       "</div>"
      ],
      "text/plain": [
       "      id  age  gender  height  weight  ap_hi  ap_lo  cholesterol  smoke  alco\n",
       "30    81   55       2     187   115.0    130     90            1      0     1\n",
       "67   134   47       1     167    71.0    120     80            2      0     1\n",
       "69   136   51       1     167    80.0    190     90            2      0     1\n",
       "75   142   39       2     164    48.0    110     70            1      1     1\n",
       "102  180   58       2     174    90.0    140     80            1      1     1"
      ]
     },
     "execution_count": 58,
     "metadata": {},
     "output_type": "execute_result"
    }
   ],
   "source": [
    "# examine what age group consume alco the most\n",
    "alco_consumers = merge[merge[\"alco\"]==1]\n",
    "alco_consumers.head()"
   ]
  },
  {
   "cell_type": "code",
   "execution_count": 59,
   "id": "d9eb2bb0",
   "metadata": {},
   "outputs": [
    {
     "data": {
      "text/plain": [
       "<AxesSubplot:xlabel='age,alco'>"
      ]
     },
     "execution_count": 59,
     "metadata": {},
     "output_type": "execute_result"
    },
    {
     "data": {
      "image/png": "[encoded data removed]",
      "text/plain": [
       "<Figure size 640x480 with 1 Axes>"
      ]
     },
     "metadata": {},
     "output_type": "display_data"
    }
   ],
   "source": [
    "alco_consumers.groupby(\"age\")[\"alco\"].value_counts().plot(kind=\"bar\")"
   ]
  },
  {
   "cell_type": "markdown",
   "id": "2be149c6",
   "metadata": {},
   "source": [
    "- [x] Age groups `49`, `57`, `53` and `55` consume alcohol the most"
   ]
  },
  {
   "cell_type": "markdown",
   "id": "b11c7e17",
   "metadata": {},
   "source": [
    "## Question 5\n",
    "* What is the percentage of people above 50 that consume alcohol?"
   ]
  },
  {
   "cell_type": "code",
   "execution_count": 60,
   "id": "8569694e",
   "metadata": {},
   "outputs": [
    {
     "data": {
      "text/plain": [
       "36123"
      ]
     },
     "execution_count": 60,
     "metadata": {},
     "output_type": "execute_result"
    }
   ],
   "source": [
    "# Create a subset of people above age 50\n",
    "over_50 = merge[merge[\"age\"] > 50]\n",
    "len(over_50)"
   ]
  },
  {
   "cell_type": "code",
   "execution_count": 61,
   "id": "af468057",
   "metadata": {},
   "outputs": [
    {
     "name": "stdout",
     "output_type": "stream",
     "text": [
      "The number of people that at 50 and above that consume alcohol are: 1773\n"
     ]
    }
   ],
   "source": [
    "# Number of people above 50 that consume alcohol\n",
    "num_alco_consumer = over_50[\"alco\"].sum()\n",
    "print(f\"The number of people that at 50 and above that consume alcohol are:\",num_alco_consumer)"
   ]
  },
  {
   "cell_type": "code",
   "execution_count": 62,
   "id": "bf349785",
   "metadata": {},
   "outputs": [
    {
     "name": "stdout",
     "output_type": "stream",
     "text": [
      "The percentage of people above at 50years and above that consume alcohol is 4.91%\n"
     ]
    }
   ],
   "source": [
    "# Percent of people above 50 that consume alcohol\n",
    "pct_alco_consumers = num_alco_consumer / len(over_50) * 100\n",
    "print(f\"The percentage of people above at 50years and above that consume alcohol is {pct_alco_consumers:.2f}%\")"
   ]
  },
  {
   "cell_type": "markdown",
   "id": "67d76793",
   "metadata": {},
   "source": [
    "## Question 6\n",
    "* Which of the following statements is true with 95% confidence?\n",
    "1. smokers have higher blood pressure than non_smokers\n",
    "2. smokers have higher cholesterol level than non smokers"
   ]
  },
  {
   "cell_type": "code",
   "execution_count": 63,
   "id": "e53bf950",
   "metadata": {},
   "outputs": [],
   "source": [
    "# Subset data for smokers and non-smokers\n",
    "smokers_bp = merge.loc[merge['smoke'] == 1, 'ap_hi']\n",
    "non_smokers_bp = merge.loc[merge['smoke'] == 0, 'ap_hi']\n",
    "\n",
    "smokers_chol = merge.loc[merge['smoke'] == 1, 'cholesterol']\n",
    "non_smokers_chol = merge.loc[merge['smoke'] == 0, 'cholesterol']\n"
   ]
  },
  {
   "cell_type": "code",
   "execution_count": 64,
   "id": "e54419fa",
   "metadata": {},
   "outputs": [
    {
     "name": "stdout",
     "output_type": "stream",
     "text": [
      "p-value for blood pressure: 1.3443562899791481e-10\n",
      "Smokers have significantly higher blood pressure than non-smokers\n",
      "p-value for cholesterol: 0.014376674863055364\n",
      "Smokers have significantly higher cholesterol levels than non-smokers\n"
     ]
    }
   ],
   "source": [
    "# perform two-sample t-test for blood pressure\n",
    "t_stat, p_val_bp = stats.ttest_ind(smokers_bp, non_smokers_bp)\n",
    "print('p-value for blood pressure:', p_val_bp)\n",
    "if p_val_bp < 0.05:\n",
    "    print('Smokers have significantly higher blood pressure than non-smokers')\n",
    "else:\n",
    "    print('There is no significant difference in blood pressure between smokers and non-smokers')\n",
    "\n",
    "# perform two-sample t-test for cholesterol\n",
    "t_stat, p_val_chol = stats.ttest_ind(smokers_chol, non_smokers_chol)\n",
    "print('p-value for cholesterol:', p_val_chol)\n",
    "if p_val_chol < 0.05:\n",
    "    print('Smokers have significantly higher cholesterol levels than non-smokers')\n",
    "else:\n",
    "    print('There is no significant difference in cholesterol levels between smokers and non-smokers')\n"
   ]
  },
  {
   "cell_type": "code",
   "execution_count": null,
   "id": "ce2da09e",
   "metadata": {},
   "outputs": [],
   "source": []
  }
 ],
 "metadata": {
  "kernelspec": {
   "display_name": "Python 3 (ipykernel)",
   "language": "python",
   "name": "python3"
  },
  "language_info": {
   "codemirror_mode": {
    "name": "ipython",
    "version": 3
   },
   "file_extension": ".py",
   "mimetype": "text/x-python",
   "name": "python",
   "nbconvert_exporter": "python",
   "pygments_lexer": "ipython3",
   "version": "3.9.13"
  }
 },
 "nbformat": 4,
 "nbformat_minor": 5
}
